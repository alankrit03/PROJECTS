{
 "cells": [
  {
   "cell_type": "markdown",
   "metadata": {},
   "source": [
    "# Casual Coded Correspondence: The Project\n",
    "\n",
    "In this project, you will be working to code and decode various messages between you and your fictional cryptography enthusiast pen pal Vishal. You and Vishal have been exchanging letters for quite some time now and have started to provide a puzzle in each one of your letters.  Here is his most recent letter:\n",
    "\n",
    "     Hey there! How have you been? I've been great! I just learned about this really cool type of cipher called a  Caesar Cipher. Here's how it works: You take your message, something like \"hello\" and then you shift all of the letters by a certain offset. For example, if I chose an offset of 3 and a message of \"hello\", I would code my message by shifting each letter 3 places to the left (with respect to the alphabet). So \"h\" becomes \"e\", \"e\" becomes, \"b\", \"l\" becomes \"i\", and \"o\" becomes \"l\". Then I have my coded message,\"ebiil\"! Now I can send you my message and the offset and you can decode it. The best thing is that Julius Caesar himself used this cipher, that's why it's called the Caesar Cipher! Isn't that so cool! Okay, now I'm going to send you a longer coded message that you have to decode yourself!\n",
    "    \n",
    "        xuo jxuhu! jxyi yi qd unqcfbu ev q squiqh syfxuh. muhu oek qrbu je tusetu yj? y xefu ie! iudt cu q cuiiqwu rqsa myjx jxu iqcu evviuj!\n",
    "    \n",
    "    This message has an offset of 10. Can you decode it?\n",
    "    \n",
    "\n",
    "#### Step 1: Decode Vishal's Message\n",
    "In the cell below, use your Python skills to decode Vishal's message and print the result. Hint: you can account for shifts that go past the end of the alphabet using the modulus operator, but I'll let you figure out how!"
   ]
  },
  {
   "cell_type": "code",
   "execution_count": 33,
   "metadata": {
    "collapsed": true
   },
   "outputs": [],
   "source": [
    "string = \"abcdefghijklmnopqrstuvwxyz\"\n",
    "alpha_to_num = {}\n",
    "num_to_alpha = {}\n",
    "for i in range(26):\n",
    "    alpha_to_num[string[i]] = i\n",
    "    num_to_alpha[i] = string[i]"
   ]
  },
  {
   "cell_type": "code",
   "execution_count": 23,
   "metadata": {
    "collapsed": true
   },
   "outputs": [],
   "source": [
    "vishal_input_msg = \"\"\"xuo jxuhu! jxyi yi qd unqcfbu ev q squiqh syfxuh. \n",
    "muhu oek qrbu je tusetu yj? \n",
    "y xefu ie! iudt cu q cuiiqwu rqsa myjx jxu iqcu evviuj!\"\"\""
   ]
  },
  {
   "cell_type": "code",
   "execution_count": 34,
   "metadata": {
    "collapsed": true
   },
   "outputs": [
    {
     "name": "stdout",
     "output_type": "stream",
     "text": [
      "hey there! this is an example of a caesar cipher. \n",
      "were you able to decode it? \n",
      "i hope so! send me a message back with the same offset!\n"
     ]
    }
   ],
   "source": [
    "def decoder(input_msg, offset):\n",
    "    output_msg = \"\"\n",
    "    for x in input_msg:\n",
    "        if x in alpha_to_num:\n",
    "            output_msg += num_to_alpha[ (alpha_to_num[x]+offset) % 26]\n",
    "\n",
    "        else:\n",
    "            output_msg += x\n",
    "    return output_msg\n",
    "\n",
    "print(decoder(vishal_input_msg,10))"
   ]
  },
  {
   "cell_type": "markdown",
   "metadata": {},
   "source": [
    "#### Step 2: Send Vishal a Coded Message\n",
    "Great job! Now send Vishal back a message using the same offset. Your message can be anything you want! Remember, coding happens in opposite direction of decoding."
   ]
  },
  {
   "cell_type": "code",
   "execution_count": 28,
   "metadata": {
    "collapsed": true
   },
   "outputs": [],
   "source": [
    "def encoder(msg, offset):\n",
    "    output_msg = \"\"\n",
    "    for x in msg:\n",
    "        if x in alpha_to_num:\n",
    "            output_msg += num_to_alpha[ (alpha_to_num[x]-offset) % 26]\n",
    "        else:\n",
    "            output_msg += x\n",
    "    return output_msg\n"
   ]
  },
  {
   "cell_type": "code",
   "execution_count": 29,
   "metadata": {
    "collapsed": true
   },
   "outputs": [
    {
     "name": "stdout",
     "output_type": "stream",
     "text": [
      "xuo lyixqb! y qc xqffo je buj oek adem jxqj y xqlu vydqbbo tusetut oekh cuiiqwu qdt udsetut jxyi hufbo\n",
      "yd squiqh syfxuh ishyfj. weet bksa co rhejxuh!\n"
     ]
    }
   ],
   "source": [
    "reply_to_vishal = \"\"\"hey vishal! i am happy to let you know that i have finally decoded your message and encoded this reply\n",
    "in caesar cipher script. good luck my brother!\"\"\"\n",
    "\n",
    "print(encoder(reply_to_vishal,10))"
   ]
  },
  {
   "cell_type": "markdown",
   "metadata": {},
   "source": [
    "#### Step 3: Make functions for decoding and coding \n",
    "\n",
    "Vishal sent over another reply, this time with two coded messages!\n",
    "    \n",
    "    You're getting the hang of this! Okay here are two more messages, the first one is coded just like before with  an offset of ten, and it contains the hint for decoding the second message!\n",
    "    \n",
    "    First message:\n",
    "    \n",
    "        jxu evviuj veh jxu iusedt cuiiqwu yi vekhjuud.\n",
    "        \n",
    "    Second message:\n",
    "    \n",
    "        bqdradyuzs ygxfubxq omqemd oubtqde fa oapq kagd yqeemsqe ue qhqz yadq eqogdq!\n",
    "    \n",
    "Decode both of these messages. \n",
    "\n",
    "If you haven't already, define two functions `decoder(message, offset)` and `coder(message, offset)` that can be used to quickly decode and code messages given any offset."
   ]
  },
  {
   "cell_type": "code",
   "execution_count": 30,
   "metadata": {
    "collapsed": true
   },
   "outputs": [
    {
     "name": "stdout",
     "output_type": "stream",
     "text": [
      "the offset for the second message is fourteen.\n"
     ]
    }
   ],
   "source": [
    "msg1 = \"jxu evviuj veh jxu iusedt cuiiqwu yi vekhjuud.\"\n",
    "print(decoder(msg1,10))"
   ]
  },
  {
   "cell_type": "code",
   "execution_count": 31,
   "metadata": {
    "collapsed": true
   },
   "outputs": [
    {
     "name": "stdout",
     "output_type": "stream",
     "text": [
      "performing multiple caesar ciphers to code your messages is even more secure!\n"
     ]
    }
   ],
   "source": [
    "msg2=\"bqdradyuzs ygxfubxq omqemd oubtqde fa oapq kagd yqeemsqe ue qhqz yadq eqogdq!\"\n",
    "print(decoder(msg2,14))"
   ]
  },
  {
   "cell_type": "markdown",
   "metadata": {},
   "source": [
    "#### Step 4: Solving a Caesar Cipher without knowing the shift value\n",
    "\n",
    "Awesome work! While you were working to decode his last two messages, Vishal sent over another letter! He's really been bitten by the crytpo-bug. Read it and see what interesting task he has lined up for you this time.\n",
    "\n",
    "            Hello again friend! I knew you would love the Caesar Cipher, it's a cool simple way to encrypt messages. Did you know that back in Caesar's time, it was considered a very secure way of communication and it took a lot of effort to crack if you were unaware of the value of the shift? That's all changed with computers! Now we can brute force these kinds of ciphers very quickly, as I'm sure you can imagine.\n",
    "            \n",
    "            To test your cryptography skills, this next coded message is going to be harder than the last couple to crack. It's still going to be coded with a Caesar Cipher but this time I'm not going to tell you the value of   the shift. You'll have to brute force it yourself.\n",
    "            \n",
    "            Here's the coded message:\n",
    "            \n",
    "            vhfinmxkl atox kxgwxkxw tee hy maxlx hew vbiaxkl tl hulhexmx. px'ee atox mh kxteer lmxi ni hnk ztfx by px ptgm mh dxxi hnk fxlltzxl ltyx.\n",
    "            \n",
    "            Good luck!\n",
    "            \n",
    "Decode Vishal's most recent message and see what it says!"
   ]
  },
  {
   "cell_type": "code",
   "execution_count": 36,
   "metadata": {
    "collapsed": true
   },
   "outputs": [
    {
     "name": "stdout",
     "output_type": "stream",
     "text": [
      "wigjonylm bupy lyhxylyx uff iz nbymy ifx wcjbylm um ivmifyny. \n",
      "qy'ff bupy ni lyuffs mnyj oj iol augy cz qy quhn ni eyyj iol gymmuaym muzy.\n",
      "offset=1\n",
      "\n",
      "xjhkpozmn cvqz mziyzmzy vgg ja ocznz jgy xdkczmn vn jwnjgzoz. \n",
      "rz'gg cvqz oj mzvggt nozk pk jpm bvhz da rz rvio oj fzzk jpm hznnvbzn nvaz.\n",
      "offset=2\n",
      "\n",
      "ykilqpano dwra najzanaz whh kb pdaoa khz yeldano wo kxokhapa. \n",
      "sa'hh dwra pk nawhhu opal ql kqn cwia eb sa swjp pk gaal kqn iaoowcao owba.\n",
      "offset=3\n",
      "\n",
      "zljmrqbop exsb obkaboba xii lc qebpb lia zfmebop xp lyplibqb. \n",
      "tb'ii exsb ql obxiiv pqbm rm lro dxjb fc tb txkq ql hbbm lro jbppxdbp pxcb.\n",
      "offset=4\n",
      "\n",
      "amknsrcpq fytc pclbcpcb yjj md rfcqc mjb agnfcpq yq mzqmjcrc. \n",
      "uc'jj fytc rm pcyjjw qrcn sn msp eykc gd uc uylr rm iccn msp kcqqyecq qydc.\n",
      "offset=5\n",
      "\n",
      "bnlotsdqr gzud qdmcdqdc zkk ne sgdrd nkc bhogdqr zr narnkdsd. \n",
      "vd'kk gzud sn qdzkkx rsdo to ntq fzld he vd vzms sn jddo ntq ldrrzfdr rzed.\n",
      "offset=6\n",
      "\n",
      "computers have rendered all of these old ciphers as obsolete. \n",
      "we'll have to really step up our game if we want to keep our messages safe.\n",
      "offset=7\n",
      "\n",
      "dpnqvufst ibwf sfoefsfe bmm pg uiftf pme djqifst bt pctpmfuf. \n",
      "xf'mm ibwf up sfbmmz tufq vq pvs hbnf jg xf xbou up lffq pvs nfttbhft tbgf.\n",
      "offset=8\n",
      "\n",
      "eqorwvgtu jcxg tgpfgtgf cnn qh vjgug qnf ekrjgtu cu qduqngvg. \n",
      "yg'nn jcxg vq tgcnna uvgr wr qwt icog kh yg ycpv vq mggr qwt oguucigu uchg.\n",
      "offset=9\n",
      "\n",
      "frpsxwhuv kdyh uhqghuhg doo ri wkhvh rog flskhuv dv revrohwh. \n",
      "zh'oo kdyh wr uhdoob vwhs xs rxu jdph li zh zdqw wr nhhs rxu phvvdjhv vdih.\n",
      "offset=10\n",
      "\n",
      "gsqtyxivw lezi virhivih epp sj xliwi sph gmtlivw ew sfwspixi. \n",
      "ai'pp lezi xs vieppc wxit yt syv keqi mj ai aerx xs oiit syv qiwwekiw weji.\n",
      "offset=11\n",
      "\n",
      "htruzyjwx mfaj wjsijwji fqq tk ymjxj tqi hnumjwx fx tgxtqjyj. \n",
      "bj'qq mfaj yt wjfqqd xyju zu tzw lfrj nk bj bfsy yt pjju tzw rjxxfljx xfkj.\n",
      "offset=12\n",
      "\n",
      "iusvazkxy ngbk xktjkxkj grr ul znkyk urj iovnkxy gy uhyurkzk. \n",
      "ck'rr ngbk zu xkgrre yzkv av uax mgsk ol ck cgtz zu qkkv uax skyygmky yglk.\n",
      "offset=13\n",
      "\n",
      "jvtwbalyz ohcl yluklylk hss vm aolzl vsk jpwolyz hz vizvslal. \n",
      "dl'ss ohcl av ylhssf zalw bw vby nhtl pm dl dhua av rllw vby tlzzhnlz zhml.\n",
      "offset=14\n",
      "\n",
      "kwuxcbmza pidm zmvlmzml itt wn bpmam wtl kqxpmza ia wjawtmbm. \n",
      "em'tt pidm bw zmittg abmx cx wcz oium qn em eivb bw smmx wcz umaaioma ainm.\n",
      "offset=15\n",
      "\n",
      "lxvydcnab qjen anwmnanm juu xo cqnbn xum lryqnab jb xkbxuncn. \n",
      "fn'uu qjen cx anjuuh bcny dy xda pjvn ro fn fjwc cx tnny xda vnbbjpnb bjon.\n",
      "offset=16\n",
      "\n",
      "mywzedobc rkfo boxnobon kvv yp droco yvn mszrobc kc ylcyvodo. \n",
      "go'vv rkfo dy bokvvi cdoz ez yeb qkwo sp go gkxd dy uooz yeb wocckqoc ckpo.\n",
      "offset=17\n",
      "\n",
      "nzxafepcd slgp cpyopcpo lww zq espdp zwo ntaspcd ld zmdzwpep. \n",
      "hp'ww slgp ez cplwwj depa fa zfc rlxp tq hp hlye ez vppa zfc xpddlrpd dlqp.\n",
      "offset=18\n",
      "\n",
      "oaybgfqde tmhq dqzpqdqp mxx ar ftqeq axp oubtqde me aneaxqfq. \n",
      "iq'xx tmhq fa dqmxxk efqb gb agd smyq ur iq imzf fa wqqb agd yqeemsqe emrq.\n",
      "offset=19\n",
      "\n",
      "pbzchgref unir eraqrerq nyy bs gurfr byq pvcuref nf bofbyrgr. \n",
      "jr'yy unir gb ernyyl fgrc hc bhe tnzr vs jr jnag gb xrrc bhe zrffntrf fnsr.\n",
      "offset=20\n",
      "\n",
      "qcadihsfg vojs fsbrsfsr ozz ct hvsgs czr qwdvsfg og cpgczshs. \n",
      "ks'zz vojs hc fsozzm ghsd id cif uoas wt ks kobh hc yssd cif asggousg gots.\n",
      "offset=21\n",
      "\n",
      "rdbejitgh wpkt gtcstgts paa du iwtht das rxewtgh ph dqhdatit. \n",
      "lt'aa wpkt id gtpaan hite je djg vpbt xu lt lpci id ztte djg bthhpvth hput.\n",
      "offset=22\n",
      "\n",
      "secfkjuhi xqlu hudtuhut qbb ev jxuiu ebt syfxuhi qi eriebuju. \n",
      "mu'bb xqlu je huqbbo ijuf kf ekh wqcu yv mu mqdj je auuf ekh cuiiqwui iqvu.\n",
      "offset=23\n",
      "\n",
      "tfdglkvij yrmv iveuvivu rcc fw kyvjv fcu tzgyvij rj fsjfcvkv. \n",
      "nv'cc yrmv kf ivrccp jkvg lg fli xrdv zw nv nrek kf bvvg fli dvjjrxvj jrwv.\n",
      "offset=24\n",
      "\n",
      "ugehmlwjk zsnw jwfvwjwv sdd gx lzwkw gdv uahzwjk sk gtkgdwlw. \n",
      "ow'dd zsnw lg jwsddq klwh mh gmj ysew ax ow osfl lg cwwh gmj ewkksywk ksxw.\n",
      "offset=25\n",
      "\n"
     ]
    }
   ],
   "source": [
    "msg_wo_shift = \"\"\"vhfinmxkl atox kxgwxkxw tee hy maxlx hew vbiaxkl tl hulhexmx. \n",
    "px'ee atox mh kxteer lmxi ni hnk ztfx by px ptgm mh dxxi hnk fxlltzxl ltyx.\"\"\"\n",
    "\n",
    "for i in range(1,26):\n",
    "    print(decoder(msg_wo_shift,i),f\"offset={i}\",sep='\\n',end='\\n\\n')"
   ]
  },
  {
   "cell_type": "markdown",
   "metadata": {},
   "source": [
    "#### Step 5: The Vigenère Cipher\n",
    "\n",
    "Great work! While you were working on the brute force cracking of the cipher, Vishal sent over another letter. That guy is a letter machine!\n",
    "\n",
    "            Salutations! As you can see, technology has made brute forcing simple ciphers like the Caesar Cipher extremely easy, and us crypto-enthusiasts have had to get more creative and use more complicated ciphers. This next cipher I'm going to teach you is the Vigenère Cipher, invented by an Italian cryptologist named Giovan Battista Bellaso (cool name eh?) in the 16th century, but named after another cryptologist from the 16th century, Blaise de Vigenère.\n",
    "            \n",
    "           The Vigenère Cipher is a polyalphabetic substitution cipher, as opposed to the Caesar Cipher which was a monoalphabetic substitution cipher. What this means is that opposed to having a single shift that is applied to every letter, the Vigenère Cipher has a different shift for each individual letter. The value of the shift for each letter is determined by a given keyword.\n",
    "           \n",
    "           Consider the message\n",
    "           \n",
    "               barryisthespy\n",
    "\n",
    "           If we want to code this message, first we choose a keyword. For this example, we'll use the keyword\n",
    "           \n",
    "               dog\n",
    "               \n",
    "           Now we use the repeat the keyword over and over to generate a _keyword phrase_ that is the same length as the message we want to code. So if we want to code the message \"barryisthespy\" our _keyword phrase_ is \"dogdogdogdogd\". Now we are ready to start coding our message. We shift the each letter of our message by the place value of the corresponding letter in the keyword phrase, assuming that \"a\" has a place value of 0, \"b\" has a place value of 1, and so forth. Remember, we zero-index because this is Python we're talking about!\n",
    "\n",
    "                        message:       b  a  r  r  y  i  s  t  h  e  s  p  y\n",
    "                \n",
    "                 keyword phrase:       d  o  g  d  o  g  d  o  g  d  o  g  d\n",
    "                 \n",
    "          resulting place value:       4  14 15 12 16 24 11 21 25 22 22 17 5\n",
    "      \n",
    "            So we shift \"b\", which has an index of 1, by the index of \"d\", which is 3. This gives us an place value of 4, which is \"e\". Then continue the trend: we shift \"a\" by the place value of \"o\", 14, and get \"o\" again, we shift \"r\" by the place value of \"g\", 15, and get \"x\", shift the next \"r\" by 12 places and \"u\", and so forth. Once we complete all the shifts we end up with our coded message:\n",
    "            \n",
    "                eoxumovhnhgvb\n",
    "                \n",
    "            As you can imagine, this is a lot harder to crack without knowing the keyword! So now comes the hard part. I'll give you a message and the keyword, and you'll see if you can figure out how to crack it! Ready? Okay here's my message:\n",
    "            \n",
    "                dfc jhjj ifyh yf hrfgiv xulk? vmph bfzo! qtl eeh gvkszlfl yyvww kpi hpuvzx dl tzcgrywrxll!\n",
    "                \n",
    "            and the keyword to decode my message is \n",
    "            \n",
    "                friends\n",
    "                \n",
    "            Because that's what we are! Good luck friend!\n",
    "           \n",
    "And there it is. Vishal has given you quite the assignment this time! Try to decode his message. It may be helpful to create a function that takes two parameters, the coded message and the keyword and then work towards a solution from there."
   ]
  },
  {
   "cell_type": "code",
   "execution_count": 58,
   "metadata": {},
   "outputs": [],
   "source": [
    "def element_decoder(ele,offset):\n",
    "    return num_to_alpha[ (alpha_to_num[ele]-offset) % 26]"
   ]
  },
  {
   "cell_type": "code",
   "execution_count": 57,
   "metadata": {},
   "outputs": [],
   "source": [
    "def vigen_decoder(msg,key):\n",
    "    output_msg = ''\n",
    "    i, n = 0, len(key)\n",
    "    for x in msg:\n",
    "        if x in alpha_to_num:\n",
    "            output_msg += element_decoder(x, alpha_to_num[key[i]])\n",
    "        else:\n",
    "            output_msg += x\n",
    "        \n",
    "        i = (i+1)%n\n",
    "    \n",
    "    return output_msg"
   ]
  },
  {
   "cell_type": "code",
   "execution_count": 59,
   "metadata": {},
   "outputs": [
    {
     "name": "stdout",
     "output_type": "stream",
     "text": [
      "you were able to decode this? nice work! you are becoming quite the expert at crytography!\n"
     ]
    }
   ],
   "source": [
    "vigen_input = [\"dfc jhjj ifyh yf hrfgiv xulk? vmph bfzo! qtl eeh gvkszlfl yyvww kpi hpuvzx dl tzcgrywrxll!\", \"friends\"]\n",
    "print(vigen_decoder(*vigen_input))"
   ]
  },
  {
   "cell_type": "markdown",
   "metadata": {
    "collapsed": true
   },
   "source": [
    "#### Step 6: Send a message with the  Vigenère Cipher\n",
    "Great work decoding the message. For your final task, write a function that can encode a message using a given keyword and write out a message to send to Vishal!"
   ]
  },
  {
   "cell_type": "code",
   "execution_count": 60,
   "metadata": {},
   "outputs": [],
   "source": [
    "def element_encoder(ele,offset):\n",
    "    return num_to_alpha[ (alpha_to_num[ele]-offset) % 26]"
   ]
  },
  {
   "cell_type": "code",
   "execution_count": 61,
   "metadata": {},
   "outputs": [],
   "source": [
    "def vigen_encoder(msg,key):\n",
    "    output_msg = ''\n",
    "    i, n = 0, len(key)\n",
    "    for x in msg:\n",
    "        if x in alpha_to_num:\n",
    "            output_msg += element_encoder(x, alpha_to_num[key[i]])\n",
    "        else:\n",
    "            output_msg += x\n",
    "        \n",
    "        i = (i+1)%n\n",
    "    \n",
    "    return output_msg"
   ]
  },
  {
   "cell_type": "code",
   "execution_count": 62,
   "metadata": {},
   "outputs": [
    {
     "name": "stdout",
     "output_type": "stream",
     "text": [
      "naz lqwa mght yk pjydpj itno? serq sddp! ktq mwa njydynjv vqxfj itj tjuagf wi hnnftcgmudn!\n"
     ]
    }
   ],
   "source": [
    "vigen_reply = [\"you were able to decode this? nice work! you are becoming quite the expert at crytography!\", \"love\"]\n",
    "\n",
    "print(vigen_encoder(*vigen_reply))"
   ]
  },
  {
   "cell_type": "markdown",
   "metadata": {},
   "source": [
    "#### Conclusion\n",
    "Over the course of this project you've learned about two different cipher methods and have used your Python skills to code and decode messages. There are all types of other facinating ciphers out there to explore, and Python is the perfect language to implement them with, so go exploring! "
   ]
  }
 ],
 "metadata": {
  "kernelspec": {
   "display_name": "Python 3",
   "language": "python",
   "name": "python3"
  },
  "language_info": {
   "codemirror_mode": {
    "name": "ipython",
    "version": 3
   },
   "file_extension": ".py",
   "mimetype": "text/x-python",
   "name": "python",
   "nbconvert_exporter": "python",
   "pygments_lexer": "ipython3",
   "version": "3.8.2"
  }
 },
 "nbformat": 4,
 "nbformat_minor": 2
}
